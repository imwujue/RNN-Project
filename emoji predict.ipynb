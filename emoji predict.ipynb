{
 "cells": [
  {
   "cell_type": "markdown",
   "metadata": {},
   "source": [
    "# Emoji 表情生成器"
   ]
  },
  {
   "cell_type": "markdown",
   "metadata": {},
   "source": [
    "## 导入使用的库"
   ]
  },
  {
   "cell_type": "code",
   "execution_count": 1,
   "metadata": {},
   "outputs": [
    {
     "name": "stderr",
     "output_type": "stream",
     "text": [
      "Using TensorFlow backend.\n"
     ]
    }
   ],
   "source": [
    "import random\n",
    "import twitter\n",
    "import emoji\n",
    "# import itertools\n",
    "import pandas as pd\n",
    "from itertools import chain\n",
    "from keras.preprocessing.sequence import pad_sequences\n",
    "import numpy as np\n",
    "#from sklearn.model_selection import train_test_split\n",
    "from keras import Sequential, optimizers, regularizers\n",
    "from keras.preprocessing.text import Tokenizer\n",
    "from keras.preprocessing.sequence import pad_sequences\n",
    "from keras.preprocessing.text import one_hot\n",
    "from keras.utils import to_categorical\n",
    "import keras.callbacks\n",
    "from keras.backend import clear_session\n",
    "#import json\n",
    "\n",
    "import os\n",
    "# import nb_utils\n",
    "from keras.layers import Input, Conv1D, MaxPooling1D, Flatten, Dense, Dropout, LSTM, Embedding, GlobalMaxPooling1D#, Merge \n",
    "from keras.models import Model\n",
    "from keras.layers.merge import Concatenate, Average\n",
    "\n",
    "# from gensim.models import Word2Vec"
   ]
  },
  {
   "cell_type": "markdown",
   "metadata": {},
   "source": [
    "## 对数据集进行统计分析"
   ]
  },
  {
   "cell_type": "code",
   "execution_count": 2,
   "metadata": {},
   "outputs": [
    {
     "name": "stderr",
     "output_type": "stream",
     "text": [
      "/Users/wujue/anaconda3/lib/python3.6/site-packages/IPython/core/interactiveshell.py:2785: DtypeWarning: Columns (0) have mixed types. Specify dtype option on import or set low_memory=False.\n",
      "  interactivity=interactivity, compiler=compiler, result=result)\n"
     ]
    },
    {
     "data": {
      "text/plain": [
       "😂        70866\n",
       "😭        28812\n",
       "❤        23972\n",
       "emoji    16415\n",
       "😍        15831\n",
       "🔥        15568\n",
       "🤣         9882\n",
       "🙏         7845\n",
       "😩         7839\n",
       "💕         7483\n",
       "🤔         7383\n",
       "😊         6750\n",
       "🖤         6194\n",
       "✨         6092\n",
       "👀         5923\n",
       "💜         5901\n",
       "👏         5669\n",
       "🙄         5466\n",
       "💀         5268\n",
       "🙌         5224\n",
       "🎉         5051\n",
       "😘         4719\n",
       "💯         4661\n",
       "💙         4519\n",
       "♥         4143\n",
       "😔         4112\n",
       "👍         4018\n",
       "👇         3816\n",
       "😉         3755\n",
       "🚨         3652\n",
       "         ...  \n",
       "🥫            2\n",
       "⚱            1\n",
       "🛢            1\n",
       "🧙            1\n",
       "🏣            1\n",
       "◀            1\n",
       "🧘            1\n",
       "🕠            1\n",
       "㊗            1\n",
       "🈵            1\n",
       "🈳            1\n",
       "🕜            1\n",
       "🚇            1\n",
       "📏            1\n",
       "🏬            1\n",
       "🕍            1\n",
       "🀄            1\n",
       "🤼            1\n",
       "🕦            1\n",
       "🕟            1\n",
       "🔡            1\n",
       "🗃            1\n",
       "🚟            1\n",
       "👝            1\n",
       "🈲            1\n",
       "📤            1\n",
       "🤾            1\n",
       "🚋            1\n",
       "➗            1\n",
       "🚳            1\n",
       "Name: emoji, Length: 1086, dtype: int64"
      ]
     },
     "execution_count": 2,
     "metadata": {},
     "output_type": "execute_result"
    }
   ],
   "source": [
    "all_tweets = pd.read_csv('data/emojis_homemade.csv')\n",
    "all_tweets['emoji'].value_counts()"
   ]
  },
  {
   "cell_type": "code",
   "execution_count": 3,
   "metadata": {},
   "outputs": [
    {
     "data": {
      "text/plain": [
       "(729680, 3)"
      ]
     },
     "execution_count": 3,
     "metadata": {},
     "output_type": "execute_result"
    }
   ],
   "source": [
    "all_tweets.shape"
   ]
  },
  {
   "cell_type": "code",
   "execution_count": 4,
   "metadata": {},
   "outputs": [
    {
     "data": {
      "text/plain": [
       "<bound method NDFrame.head of        Unnamed: 0                                               text emoji\n",
       "0               0  RT @mydear_bangtan: [VID] 181023 - Foi adicion...     ©\n",
       "1               1  RT @WuYiFan_KrisBar: 181023 Kris Wu Studio upd...     💫\n",
       "2               2  RT @TrendsPrabhas: Now you are watching Indian...     😎\n",
       "3               3                                    dats for keeps      💛\n",
       "4               4  RT @xruiztru: WHO ARMS THE SAUDIS?\\n\\n  🇺🇸US 5...     🏳\n",
       "5               5  RT @xxxfreaknasty2: interracial couple go at i...     🌝\n",
       "6               6               @Eric_Deshaun Holy shit no I think.      😩\n",
       "7               7     RT @fanmutuals: army, follow who retweet this      👑\n",
       "8               8  RT @_Simplykpop: Simply K-Pop harddrive dump\\n...     🤩\n",
       "9               9  Happy birthday nellie @thelittlegend, hope you...     ❤\n",
       "10             10  RT @montparnasty: \"I have passed through fire\"...     💕\n",
       "11             11  RT @Jason_Mckeown: Look how empty Valley Parad...     😟\n",
       "12             12  RT @hellohonne: Incredible to be involved in t...     😱\n",
       "13             13  RT @btsvotingteam: Too much feels \\n\\n#BTS #MP...     😢\n",
       "14             14  RT @premierleague: #PL TOP SCORERS \\n\\n7 - @ha...     🔥\n",
       "15             15  [DEPASCAL] RUSSEL HOODIE BLUE\\n https://t.co/C...     🔗\n",
       "16             16  The joys of having a make up artist as your be...     😂\n",
       "17             17  RT @EXOGlobal: [!] #TEMPO_KAI is currently tre...     🎊\n",
       "18             18     RT @fanmutuals: army, follow who retweet this      👑\n",
       "19             19       @slicksean Someone didn’t read the article.      🙄\n",
       "20             20  RT @mefeater: Happy 23rd Birthday to Duckie Th...     💕\n",
       "21             21  RT @followprojecten: follow everyone who retwe...     💓\n",
       "22             22  RT @hellohonne: Incredible to be involved in t...     😱\n",
       "23             23  RT @abusedmember: ⚀Re-enter the red cube⚀\\n\\n*...     🏁\n",
       "24             24  WOW @Just_Ceeks let me know when I can come pl...     🙃\n",
       "25             25  RT @MarkLand0802: markno～\\n#NCT #Mark #MarkLee...     🤟\n",
       "26             26  RT @SAPTechEd: Don't forget! The #SAPTechEd ne...     🍻\n",
       "27             27  RT @YuH8TM3:  \\nYou have all decided to push y...     🤔\n",
       "28             28                    Somebody stop simone biles omg      🔥\n",
       "29             29              @mrfairyvideo @__jim_in Wth i see...      😨\n",
       "...           ...                                                ...   ...\n",
       "729650          5                                  That 51 hurt bad      😂\n",
       "729651          6                                 @Loudbasket Phew.      😢\n",
       "729652          7  RT @Iilbaby4PF: good terms or not , lord watch...     ❤\n",
       "729653          8  I fixed the photo of Michelle Williams. I thin...     😃\n",
       "729654          9                        gotta get up off this road      🙃\n",
       "729655         10  First off who fucking bitches up Douglass  but...     😂\n",
       "729656         11                             Cuti and idk wht to do     😫\n",
       "729657         12  suddenly i forgot how computers work, sorry Mr...     😂\n",
       "729658         13  My heat is currently broken and it’s 58 degree...     😊\n",
       "729659         14  RT @IamTemitorpee: Getting Married is Importan...     😂\n",
       "729660         15   TeenCurves - Babe Keisha Grey Fucks A Huge Co...     😆\n",
       "729661         16  RT @stay4kidz: A new stray kids fan account. I...     ✨\n",
       "729662         17  RT @Sims4Creations_: Modern Basegame + EPs Hou...     ♥\n",
       "729663         18  This old lady that I just started working with...     🙁\n",
       "729664         19  RT @iHarryEmpires: Follow everyone who Retweet...     🙉\n",
       "729665         20  Don’t speak when we have guests if you don’t s...     🙄\n",
       "729666         21  RT @Mhelen_one: DAY VERY HOT\\n\\n@AdultBrazil \\...     🔥\n",
       "729667         22  RT @dodo: Watch this stray dog go from terrifi...     😍\n",
       "729668         23  @volcanicclove I would need 50 hour days to wa...     😭\n",
       "729669         24  @iAnkurSingh Wonderful bahi, even Munger seems...     🙏\n",
       "729670         25     RT @_arieldee: I need  https://t.co/zuATfTN1p8     😩\n",
       "729671         26  RT @TheJose8A: RT if you also get freaked out ...     😅\n",
       "729672         27  RT @LVNancy:  #Trump called it \\n#CaliforniaFi...     🔥\n",
       "729673         28  RT @allcutedog: When you're trying your best b...     🙃\n",
       "729674         29        @BeautifulSinna Not if your moving to Cali      😭\n",
       "729675         30                              @LauraLoomer Truth. ️     ❤\n",
       "729676         31  RT @xBlackGold: Why You Gotta Land w/ Ya Legs ...     😂\n",
       "729677         32  RT @PopYour_Bubble: Becky snatched them snacks...     😂\n",
       "729678         33  RT @NizzyNass: @nickiminaj Full Performance At...     🤪\n",
       "729679         34  RT @ReE57FtxTOGeBiY: Looking forward to the vi...     😭\n",
       "\n",
       "[729680 rows x 3 columns]>"
      ]
     },
     "execution_count": 4,
     "metadata": {},
     "output_type": "execute_result"
    }
   ],
   "source": [
    "all_tweets.head"
   ]
  },
  {
   "cell_type": "code",
   "execution_count": 5,
   "metadata": {},
   "outputs": [
    {
     "data": {
      "text/plain": [
       "😂        70866\n",
       "😭        28812\n",
       "❤        23972\n",
       "emoji    16415\n",
       "😍        15831\n",
       "🔥        15568\n",
       "🤣         9882\n",
       "🙏         7845\n",
       "😩         7839\n",
       "💕         7483\n",
       "🤔         7383\n",
       "😊         6750\n",
       "🖤         6194\n",
       "✨         6092\n",
       "👀         5923\n",
       "💜         5901\n",
       "👏         5669\n",
       "🙄         5466\n",
       "💀         5268\n",
       "🙌         5224\n",
       "🎉         5051\n",
       "😘         4719\n",
       "💯         4661\n",
       "💙         4519\n",
       "♥         4143\n",
       "😔         4112\n",
       "👍         4018\n",
       "👇         3816\n",
       "😉         3755\n",
       "🚨         3652\n",
       "         ...  \n",
       "😄         1350\n",
       "😇         1340\n",
       "🔴         1333\n",
       "🤤         1330\n",
       "🌹         1327\n",
       "⚡         1316\n",
       "✔         1279\n",
       "😜         1259\n",
       "😐         1242\n",
       "✈         1241\n",
       "✊         1184\n",
       "💦         1160\n",
       "😑         1152\n",
       "😴         1149\n",
       "👊         1129\n",
       "🙈         1127\n",
       "😕         1125\n",
       "❣         1105\n",
       "😞         1088\n",
       "💘         1065\n",
       "⭐         1058\n",
       "📽         1055\n",
       "❗         1054\n",
       "🔗         1044\n",
       "📍         1044\n",
       "🤯         1039\n",
       "💫         1027\n",
       "⚠         1022\n",
       "🤞         1013\n",
       "🌟         1012\n",
       "Name: emoji, Length: 112, dtype: int64"
      ]
     },
     "execution_count": 5,
     "metadata": {},
     "output_type": "execute_result"
    }
   ],
   "source": [
    "tweets = all_tweets.groupby('emoji').filter(lambda c:len(c) > 1000)\n",
    "tweets['emoji'].value_counts()"
   ]
  },
  {
   "cell_type": "code",
   "execution_count": 8,
   "metadata": {},
   "outputs": [
    {
     "data": {
      "text/plain": [
       "['emoji', '©', '‼', '▶', '☹', '☺', '♥', '⚠', '⚡', '✅']"
      ]
     },
     "execution_count": 8,
     "metadata": {},
     "output_type": "execute_result"
    }
   ],
   "source": [
    "chars = list(sorted(set(chain(*tweets['text']))))\n",
    "char_to_idx = {ch: idx for idx, ch in enumerate(chars)}\n",
    "max_sequence_len = max(len(x) for x in tweets['text'])\n",
    "\n",
    "emojis = list(sorted(set(tweets['emoji'])))\n",
    "emoji_to_idx = {em: idx for idx, em in enumerate(emojis)}\n",
    "emojis[:10]\n",
    "\n",
    "#train_tweets, test_tweets = train_test_split(tweets, test_size=0.1)"
   ]
  },
  {
   "cell_type": "markdown",
   "metadata": {},
   "source": [
    "## 数据集预处理\n",
    "* 将数据集划分为train集，dev集，test集\n",
    "* 对文本内容进行分词/one-hot编码\n",
    "* 对emoji表情进行one-hot编码"
   ]
  },
  {
   "cell_type": "code",
   "execution_count": 18,
   "metadata": {},
   "outputs": [
    {
     "name": "stdout",
     "output_type": "stream",
     "text": [
      "['©' '💫' '😎' ..., '😊' '👀' '😎']\n",
      "(120000,)\n",
      "[  1.  50.  74. ...,  70.  26.  74.]\n",
      "(120000,)\n",
      "[[ 0.  1.  0. ...,  0.  0.  0.]\n",
      " [ 0.  0.  0. ...,  0.  0.  0.]\n",
      " [ 0.  0.  0. ...,  0.  0.  0.]\n",
      " ..., \n",
      " [ 0.  0.  0. ...,  0.  0.  0.]\n",
      " [ 0.  0.  0. ...,  0.  0.  0.]\n",
      " [ 0.  0.  0. ...,  0.  0.  0.]]\n",
      "(120000, 112)\n"
     ]
    }
   ],
   "source": [
    "#初始化train，dev，test集\n",
    "train_tweets = tweets[0:100000]\n",
    "dev_tweets = tweets[100000:110000]\n",
    "test_tweets = tweets[110000:120000]\n",
    "x_train = train_tweets[\"text\"]\n",
    "y_train = np.asarray(train_tweets[\"emoji\"])\n",
    "x_dev = dev_tweets[\"text\"]\n",
    "y_dev = np.asarray(dev_tweets[\"emoji\"])\n",
    "x_test = test_tweets[\"text\"]\n",
    "y_test = np.asarray(test_tweets[\"emoji\"])\n",
    "#将所有emoji数组拼接\n",
    "all_emojis = np.concatenate((y_train, y_dev, y_test), axis=0)\n",
    "print(all_emojis)\n",
    "print(all_emojis.shape)\n",
    "#对emoji表情进行编号\n",
    "emoji_to_idx = {em: idx for idx, em in enumerate(emojis)}\n",
    "#初始化all_emojis_idx矩阵\n",
    "all_emojis_idx = np.zeros(all_emojis.shape[0])\n",
    "for i in range (all_emojis.shape[0]):\n",
    "    all_emojis_idx[i] = emoji_to_idx[all_emojis[i]]\n",
    "print(all_emojis_idx)\n",
    "print(all_emojis_idx.shape)\n",
    "#对all_emojis_idx矩阵进行one-hot编码\n",
    "all_emojis_one_hot = to_categorical (all_emojis_idx)\n",
    "print(all_emojis_one_hot)\n",
    "print(all_emojis_one_hot.shape)\n",
    "#对进行one-hot编码的数据重新划分train，dev，test\n",
    "y_train_idx = all_emojis_one_hot[0:100000,:]\n",
    "y_dev_idx = all_emojis_one_hot[100000:110000,:]\n",
    "y_test_idx = all_emojis_one_hot[110000:120000,:]"
   ]
  },
  {
   "cell_type": "code",
   "execution_count": 29,
   "metadata": {},
   "outputs": [
    {
     "name": "stdout",
     "output_type": "stream",
     "text": [
      "(100000, 5000)\n",
      "(100000, 112)\n",
      "(10000, 5000)\n",
      "(10000, 112)\n",
      "(10000, 5000)\n",
      "(10000, 112)\n"
     ]
    }
   ],
   "source": [
    "#对x_train进行分词\n",
    "num_words = 5000\n",
    "tokenizer = Tokenizer(num_words=num_words)\n",
    "tokenizer.fit_on_texts (x_train)\n",
    "\n",
    "#将分词结果按照次数排序\n",
    "#word_count = sorted(list(tokenizer.word_counts.items()), key=lambda x: x[1], reverse=True)\n",
    "#print(word_count)\n",
    "\n",
    "#根据分词器的结果，对train，dev，test数据集进行one-hot编码\n",
    "x_train_one_hot = tokenizer.texts_to_matrix(x_train, mode='binary')\n",
    "x_dev_one_hot = tokenizer.texts_to_matrix(x_dev, mode='binary')\n",
    "x_test_one_hot = tokenizer.texts_to_matrix(x_test, mode='binary')\n",
    "\n",
    "#输出train,dev,test的shape进行检验\n",
    "print(x_train_one_hot.shape)\n",
    "print(y_train_idx.shape)\n",
    "print(x_dev_one_hot.shape)\n",
    "print(y_dev_idx.shape)\n",
    "print(x_test_one_hot.shape)\n",
    "print(y_test_idx.shape)"
   ]
  },
  {
   "cell_type": "markdown",
   "metadata": {},
   "source": [
    "## 线性分类器\n",
    "* 输入层\n",
    "* 输出层：全连接层\n"
   ]
  },
  {
   "cell_type": "code",
   "execution_count": 30,
   "metadata": {},
   "outputs": [
    {
     "name": "stdout",
     "output_type": "stream",
     "text": [
      "Train on 100000 samples, validate on 10000 samples\n",
      "Epoch 1/20\n",
      " - 102s - loss: 3.4064 - acc: 0.3396 - val_loss: 2.9689 - val_acc: 0.3954\n",
      "Epoch 2/20\n",
      " - 104s - loss: 2.5574 - acc: 0.4379 - val_loss: 2.7178 - val_acc: 0.4280\n",
      "Epoch 3/20\n",
      " - 106s - loss: 2.2555 - acc: 0.4746 - val_loss: 2.6677 - val_acc: 0.4353\n",
      "Epoch 4/20\n",
      " - 104s - loss: 2.1042 - acc: 0.4986 - val_loss: 2.6772 - val_acc: 0.4379\n",
      "Epoch 5/20\n",
      " - 107s - loss: 2.0081 - acc: 0.5125 - val_loss: 2.7051 - val_acc: 0.4395\n",
      "Epoch 6/20\n",
      " - 104s - loss: 1.9406 - acc: 0.5215 - val_loss: 2.7444 - val_acc: 0.4389\n",
      "Epoch 7/20\n",
      " - 102s - loss: 1.8903 - acc: 0.5292 - val_loss: 2.7824 - val_acc: 0.4366\n",
      "Epoch 8/20\n",
      " - 102s - loss: 1.8497 - acc: 0.5350 - val_loss: 2.8244 - val_acc: 0.4384\n",
      "Epoch 9/20\n",
      " - 99s - loss: 1.8165 - acc: 0.5407 - val_loss: 2.8668 - val_acc: 0.4371\n",
      "Epoch 10/20\n",
      " - 98s - loss: 1.7880 - acc: 0.5450 - val_loss: 2.9086 - val_acc: 0.4367\n",
      "Epoch 11/20\n",
      " - 96s - loss: 1.7636 - acc: 0.5491 - val_loss: 2.9495 - val_acc: 0.4378\n",
      "Epoch 12/20\n",
      " - 100s - loss: 1.7424 - acc: 0.5524 - val_loss: 2.9885 - val_acc: 0.4333\n",
      "Epoch 13/20\n",
      " - 107s - loss: 1.7227 - acc: 0.5555 - val_loss: 3.0295 - val_acc: 0.4335\n",
      "Epoch 14/20\n",
      " - 114s - loss: 1.7058 - acc: 0.5590 - val_loss: 3.0623 - val_acc: 0.4348\n",
      "Epoch 15/20\n",
      " - 104s - loss: 1.6902 - acc: 0.5618 - val_loss: 3.0965 - val_acc: 0.4335\n",
      "Epoch 16/20\n",
      " - 108s - loss: 1.6761 - acc: 0.5643 - val_loss: 3.1298 - val_acc: 0.4345\n",
      "Epoch 17/20\n",
      " - 109s - loss: 1.6629 - acc: 0.5669 - val_loss: 3.1645 - val_acc: 0.4356\n",
      "Epoch 18/20\n",
      " - 106s - loss: 1.6508 - acc: 0.5693 - val_loss: 3.1948 - val_acc: 0.4354\n",
      "Epoch 19/20\n",
      " - 103s - loss: 1.6398 - acc: 0.5710 - val_loss: 3.2277 - val_acc: 0.4328\n",
      "Epoch 20/20\n",
      " - 105s - loss: 1.6293 - acc: 0.5733 - val_loss: 3.2544 - val_acc: 0.4327\n"
     ]
    }
   ],
   "source": [
    "#设置模型输出维度\n",
    "output_size = y_dev_idx.shape[1]\n",
    "#采用序贯模型\n",
    "model = Sequential()\n",
    "#加入全连接层\n",
    "model.add(Dense(output_size, activation='softmax', input_shape=(num_words,))) \n",
    "#对模型进行编译\n",
    "model.compile(optimizer=optimizers.RMSprop(lr = 0.005),\n",
    "              loss='categorical_crossentropy',\n",
    "              metrics=['accuracy'])\n",
    "#对模型进行训练\n",
    "history = model.fit (x_train_one_hot, y_train_idx,\n",
    "                    epochs = 20,\n",
    "                    batch_size = 512,\n",
    "                    validation_data = (x_dev_one_hot, y_dev_idx),\n",
    "                    verbose=2)"
   ]
  },
  {
   "cell_type": "code",
   "execution_count": 31,
   "metadata": {},
   "outputs": [],
   "source": [
    "import matplotlib.pyplot as plt\n",
    "\n",
    "#定义绘制模型准确率的曲线\n",
    "def plot_train_history(history): \n",
    "    #初始化train，validation集合的准确率和损失值\n",
    "    acc = history.history['acc']\n",
    "    val_acc = history.history['val_acc']\n",
    "    loss = history.history['loss']\n",
    "    val_loss = history.history['val_loss']\n",
    "    #初始化周期数\n",
    "    epochs = range(1, len(acc) + 1)\n",
    "    #绘制准确率曲线\n",
    "    plt.plot (epochs, acc, 'bo', label='Training acc')\n",
    "    plt.plot (epochs, val_acc, 'b', label='Validation acc')\n",
    "    plt.title ('Training and validation accuracy')\n",
    "    plt.legend()\n",
    "    plt.figure()\n",
    "    #绘制loss曲线\n",
    "    plt.plot(epochs, loss, 'bo', label = 'Training loss')\n",
    "    plt.plot(epochs, val_loss, 'b', label = 'Validation loss')\n",
    "    plt.title('Training and validation loss')\n",
    "    plt.legend()\n",
    "    plt.show()"
   ]
  },
  {
   "cell_type": "code",
   "execution_count": 32,
   "metadata": {},
   "outputs": [
    {
     "name": "stdout",
     "output_type": "stream",
     "text": [
      "best validation accuracy:  0.439499999905\n"
     ]
    },
    {
     "data": {
      "image/png": "[encoded data removed]",
      "text/plain": [
       "<Figure size 432x288 with 1 Axes>"
      ]
     },
     "metadata": {},
     "output_type": "display_data"
    },
    {
     "data": {
      "image/png": "[encoded data removed]",
      "text/plain": [
       "<Figure size 432x288 with 1 Axes>"
      ]
     },
     "metadata": {},
     "output_type": "display_data"
    }
   ],
   "source": [
    "print (\"best validation accuracy: \", max(history.history['val_acc']))\n",
    "plot_train_history(history)"
   ]
  },
  {
   "cell_type": "markdown",
   "metadata": {},
   "source": [
    "## 一层隐含层的神经网络\n",
    "* 输入层\n",
    "* 隐含层：全连接层\n",
    "* 输出层：全连接层"
   ]
  },
  {
   "cell_type": "code",
   "execution_count": 33,
   "metadata": {},
   "outputs": [
    {
     "name": "stdout",
     "output_type": "stream",
     "text": [
      "Train on 100000 samples, validate on 10000 samples\n",
      "Epoch 1/10\n",
      "100000/100000 [==============================] - 126s 1ms/step - loss: 3.5590 - acc: 0.3021 - val_loss: 3.0527 - val_acc: 0.3711\n",
      "Epoch 2/10\n",
      "100000/100000 [==============================] - 122s 1ms/step - loss: 2.7648 - acc: 0.4034 - val_loss: 2.7337 - val_acc: 0.4041\n",
      "Epoch 3/10\n",
      "100000/100000 [==============================] - 125s 1ms/step - loss: 2.4898 - acc: 0.4427 - val_loss: 2.6122 - val_acc: 0.4241\n",
      "Epoch 4/10\n",
      "100000/100000 [==============================] - 126s 1ms/step - loss: 2.3280 - acc: 0.4686 - val_loss: 2.5518 - val_acc: 0.4313\n",
      "Epoch 5/10\n",
      "100000/100000 [==============================] - 123s 1ms/step - loss: 2.2121 - acc: 0.4880 - val_loss: 2.5182 - val_acc: 0.4362\n",
      "Epoch 6/10\n",
      "100000/100000 [==============================] - 124s 1ms/step - loss: 2.1200 - acc: 0.5028 - val_loss: 2.5037 - val_acc: 0.4399\n",
      "Epoch 7/10\n",
      "100000/100000 [==============================] - 118s 1ms/step - loss: 2.0423 - acc: 0.5156 - val_loss: 2.5007 - val_acc: 0.4426\n",
      "Epoch 8/10\n",
      "100000/100000 [==============================] - 128s 1ms/step - loss: 1.9742 - acc: 0.5263 - val_loss: 2.5020 - val_acc: 0.4437\n",
      "Epoch 9/10\n",
      "100000/100000 [==============================] - 127s 1ms/step - loss: 1.9134 - acc: 0.5360 - val_loss: 2.5137 - val_acc: 0.4455\n",
      "Epoch 10/10\n",
      "100000/100000 [==============================] - 123s 1ms/step - loss: 1.8583 - acc: 0.5465 - val_loss: 2.5193 - val_acc: 0.4438\n"
     ]
    },
    {
     "data": {
      "image/png": "[encoded data removed]",
      "text/plain": [
       "<Figure size 432x288 with 1 Axes>"
      ]
     },
     "metadata": {},
     "output_type": "display_data"
    },
    {
     "data": {
      "image/png": "[encoded data removed]",
      "text/plain": [
       "<Figure size 432x288 with 1 Axes>"
      ]
     },
     "metadata": {},
     "output_type": "display_data"
    },
    {
     "name": "stdout",
     "output_type": "stream",
     "text": [
      "best validation accuracy:  0.445499999619\n"
     ]
    }
   ],
   "source": [
    "#设置模型输出维度\n",
    "n_output_classes = y_dev_idx.shape[1]\n",
    "#采用序贯模型\n",
    "model = Sequential()\n",
    "#加入全连接层1\n",
    "model.add(Dense(128, activation='relu', input_shape=(num_words,)))\n",
    "#加入全连接层2\n",
    "model.add(Dense(n_output_classes, activation = 'softmax'))\n",
    "#对模型进行编译\n",
    "model.compile(optimizer = 'rmsprop',\n",
    "              loss='categorical_crossentropy',\n",
    "              metrics=['accuracy'])\n",
    "#加入early stopping防止过拟合\n",
    "early = keras.callbacks.EarlyStopping(monitor='val_loss',\n",
    "                              min_delta=0.01,\n",
    "                              patience=10,\n",
    "                              verbose=1, mode='auto')\n",
    "#对模型进行训练\n",
    "history = model.fit (x_train_one_hot, y_train_idx,\n",
    "                    epochs = 10,\n",
    "                    batch_size = 512,\n",
    "                    verbose=1,\n",
    "                    validation_data = (x_dev_one_hot, y_dev_idx),\n",
    "                    callbacks = [early])\n",
    "#绘制曲线\n",
    "plot_train_history(history)\n",
    "print (\"best validation accuracy: \", max(history.history['val_acc']))"
   ]
  },
  {
   "cell_type": "markdown",
   "metadata": {},
   "source": [
    "## 两层隐含层的神经网络\n",
    "* 输入层\n",
    "* 隐含层1：全连接层\n",
    "* 隐含层2：全连接层\n",
    "* 输出层：全连接层"
   ]
  },
  {
   "cell_type": "code",
   "execution_count": 34,
   "metadata": {},
   "outputs": [
    {
     "name": "stdout",
     "output_type": "stream",
     "text": [
      "Train on 100000 samples, validate on 10000 samples\n",
      "Epoch 1/20\n",
      "100000/100000 [==============================] - 291s 3ms/step - loss: 3.5459 - acc: 0.3114 - val_loss: 3.0987 - val_acc: 0.3788\n",
      "Epoch 2/20\n",
      "100000/100000 [==============================] - 284s 3ms/step - loss: 2.8482 - acc: 0.4103 - val_loss: 2.8681 - val_acc: 0.4000\n",
      "Epoch 3/20\n",
      "100000/100000 [==============================] - 277s 3ms/step - loss: 2.6257 - acc: 0.4426 - val_loss: 2.7795 - val_acc: 0.4130\n",
      "Epoch 4/20\n",
      "100000/100000 [==============================] - 287s 3ms/step - loss: 2.4925 - acc: 0.4640 - val_loss: 2.7451 - val_acc: 0.4152\n",
      "Epoch 5/20\n",
      "100000/100000 [==============================] - 280s 3ms/step - loss: 2.3958 - acc: 0.4805 - val_loss: 2.7027 - val_acc: 0.4359\n",
      "Epoch 6/20\n",
      "100000/100000 [==============================] - 283s 3ms/step - loss: 2.3168 - acc: 0.4935 - val_loss: 2.6878 - val_acc: 0.4320\n",
      "Epoch 7/20\n",
      "100000/100000 [==============================] - 281s 3ms/step - loss: 2.2502 - acc: 0.5048 - val_loss: 2.6720 - val_acc: 0.4378\n",
      "Epoch 8/20\n",
      "100000/100000 [==============================] - 271s 3ms/step - loss: 2.1909 - acc: 0.5161 - val_loss: 2.6928 - val_acc: 0.4375\n",
      "Epoch 9/20\n",
      "100000/100000 [==============================] - 261s 3ms/step - loss: 2.1386 - acc: 0.5250 - val_loss: 2.6822 - val_acc: 0.4439\n",
      "Epoch 10/20\n",
      "100000/100000 [==============================] - 261s 3ms/step - loss: 2.0875 - acc: 0.5340 - val_loss: 2.7387 - val_acc: 0.4382\n",
      "Epoch 00010: early stopping\n"
     ]
    },
    {
     "data": {
      "image/png": "[encoded data removed]",
      "text/plain": [
       "<Figure size 432x288 with 1 Axes>"
      ]
     },
     "metadata": {},
     "output_type": "display_data"
    },
    {
     "data": {
      "image/png": "[encoded data removed]",
      "text/plain": [
       "<Figure size 432x288 with 1 Axes>"
      ]
     },
     "metadata": {},
     "output_type": "display_data"
    },
    {
     "name": "stdout",
     "output_type": "stream",
     "text": [
      "best validation accuracy:  0.443899999809\n"
     ]
    }
   ],
   "source": [
    "#设置模型输出维度\n",
    "n_output_classes = y_dev_idx.shape[1]\n",
    "#采用序贯模型\n",
    "model = Sequential()\n",
    "#加入全连接层1\n",
    "model.add(Dense(300, activation='relu', input_shape=(num_words,)))\n",
    "#加入全连接层2\n",
    "model.add(Dense(128, activation='relu', \n",
    "                kernel_regularizer = regularizers.l2(0.0025)))\n",
    "#加入全连接层3\n",
    "model.add(Dense(n_output_classes, activation = 'softmax'))\n",
    "#对模型进行编译\n",
    "model.compile(optimizer = 'rmsprop',\n",
    "              loss='categorical_crossentropy',\n",
    "              metrics=['accuracy'])\n",
    "#加入early stopping防止过拟合\n",
    "early = keras.callbacks.EarlyStopping(monitor='val_acc',\n",
    "                              min_delta=0.01,\n",
    "                              patience=5,\n",
    "                              verbose=1, mode='auto')\n",
    "#对模型进行训练\n",
    "history = model.fit (x_train_one_hot, y_train_idx,\n",
    "                    epochs = 20,\n",
    "                    batch_size = 512,\n",
    "                    verbose=1,\n",
    "                    validation_data = (x_dev_one_hot, y_dev_idx),\n",
    "                    callbacks=[early])\n",
    "#绘制曲线\n",
    "plot_train_history(history)\n",
    "print (\"best validation accuracy: \", max(history.history['val_acc']))"
   ]
  },
  {
   "cell_type": "markdown",
   "metadata": {},
   "source": [
    "## 两层隐含层的神经网络：dropout和正则化\n",
    "* 输入层\n",
    "* 隐含层1：全连接层，dropout，L2正则化\n",
    "* 隐含层2：全连接层，dropout，L2正则化\n",
    "* 输出层：全连接层"
   ]
  },
  {
   "cell_type": "code",
   "execution_count": 35,
   "metadata": {},
   "outputs": [
    {
     "name": "stdout",
     "output_type": "stream",
     "text": [
      "Train on 100000 samples, validate on 10000 samples\n",
      "Epoch 1/20\n",
      "100000/100000 [==============================] - 285s 3ms/step - loss: 3.7345 - acc: 0.2658 - val_loss: 3.2544 - val_acc: 0.3400\n",
      "Epoch 2/20\n",
      "100000/100000 [==============================] - 292s 3ms/step - loss: 3.1098 - acc: 0.3594 - val_loss: 2.9630 - val_acc: 0.3811\n",
      "Epoch 3/20\n",
      "100000/100000 [==============================] - 281s 3ms/step - loss: 2.8802 - acc: 0.3925 - val_loss: 2.8649 - val_acc: 0.3925\n",
      "Epoch 4/20\n",
      "100000/100000 [==============================] - 291s 3ms/step - loss: 2.7486 - acc: 0.4154 - val_loss: 2.7769 - val_acc: 0.4055\n",
      "Epoch 5/20\n",
      "100000/100000 [==============================] - 275s 3ms/step - loss: 2.6536 - acc: 0.4297 - val_loss: 2.7140 - val_acc: 0.4140\n",
      "Epoch 6/20\n",
      "100000/100000 [==============================] - 299s 3ms/step - loss: 2.5808 - acc: 0.4422 - val_loss: 2.6890 - val_acc: 0.4223\n",
      "Epoch 7/20\n",
      "100000/100000 [==============================] - 292s 3ms/step - loss: 2.5219 - acc: 0.4538 - val_loss: 2.6659 - val_acc: 0.4262\n",
      "Epoch 8/20\n",
      "100000/100000 [==============================] - 287s 3ms/step - loss: 2.4681 - acc: 0.4615 - val_loss: 2.6432 - val_acc: 0.4319\n",
      "Epoch 9/20\n",
      "100000/100000 [==============================] - 287s 3ms/step - loss: 2.4203 - acc: 0.4683 - val_loss: 2.6321 - val_acc: 0.4355\n",
      "Epoch 10/20\n",
      "100000/100000 [==============================] - 288s 3ms/step - loss: 2.3816 - acc: 0.4774 - val_loss: 2.6224 - val_acc: 0.4409\n",
      "Epoch 11/20\n",
      "100000/100000 [==============================] - 294s 3ms/step - loss: 2.3433 - acc: 0.4831 - val_loss: 2.6018 - val_acc: 0.4419\n",
      "Epoch 12/20\n",
      "100000/100000 [==============================] - 284s 3ms/step - loss: 2.3050 - acc: 0.4901 - val_loss: 2.6035 - val_acc: 0.4441\n",
      "Epoch 13/20\n",
      "100000/100000 [==============================] - 289s 3ms/step - loss: 2.2731 - acc: 0.4948 - val_loss: 2.6118 - val_acc: 0.4442\n",
      "Epoch 14/20\n",
      "100000/100000 [==============================] - 290s 3ms/step - loss: 2.2427 - acc: 0.5011 - val_loss: 2.6180 - val_acc: 0.4510\n",
      "Epoch 15/20\n",
      "100000/100000 [==============================] - 289s 3ms/step - loss: 2.2131 - acc: 0.5068 - val_loss: 2.6059 - val_acc: 0.4490\n",
      "Epoch 16/20\n",
      "100000/100000 [==============================] - 293s 3ms/step - loss: 2.1890 - acc: 0.5120 - val_loss: 2.6003 - val_acc: 0.4497\n",
      "Epoch 17/20\n",
      "100000/100000 [==============================] - 288s 3ms/step - loss: 2.1618 - acc: 0.5160 - val_loss: 2.5935 - val_acc: 0.4503\n",
      "Epoch 18/20\n",
      "100000/100000 [==============================] - 283s 3ms/step - loss: 2.1325 - acc: 0.5213 - val_loss: 2.6164 - val_acc: 0.4552\n",
      "Epoch 19/20\n",
      "100000/100000 [==============================] - 289s 3ms/step - loss: 2.1096 - acc: 0.5262 - val_loss: 2.6253 - val_acc: 0.4505\n",
      "Epoch 20/20\n",
      "100000/100000 [==============================] - 291s 3ms/step - loss: 2.0866 - acc: 0.5298 - val_loss: 2.6190 - val_acc: 0.4556\n"
     ]
    },
    {
     "data": {
      "image/png": "[encoded data removed]",
      "text/plain": [
       "<Figure size 432x288 with 1 Axes>"
      ]
     },
     "metadata": {},
     "output_type": "display_data"
    },
    {
     "data": {
      "image/png": "[encoded data removed]",
      "text/plain": [
       "<Figure size 432x288 with 1 Axes>"
      ]
     },
     "metadata": {},
     "output_type": "display_data"
    },
    {
     "name": "stdout",
     "output_type": "stream",
     "text": [
      "best validation accuracy:  0.455600000191\n"
     ]
    }
   ],
   "source": [
    "#设置模型输出维度\n",
    "n_output_classes = y_dev_idx.shape[1]\n",
    "#采用序贯模型\n",
    "model = Sequential()\n",
    "#加入全连接层1\n",
    "model.add(Dense(300, activation='relu', input_shape=(num_words,)))\n",
    "model.add(Dropout(0.4))\n",
    "#加入全连接层2\n",
    "model.add(Dense(128, activation='relu',\n",
    "                kernel_regularizer = regularizers.l2(0.002)))\n",
    "model.add(Dropout(0.4))\n",
    "#加入全连接层3\n",
    "model.add(Dense(n_output_classes, activation = 'softmax'))\n",
    "#对模型进行编译\n",
    "model.compile(optimizer = 'rmsprop',\n",
    "              loss='categorical_crossentropy',\n",
    "              metrics=['accuracy'])\n",
    "#对模型进行训练\n",
    "history = model.fit (x_train_one_hot, y_train_idx,\n",
    "                    epochs = 20,\n",
    "                    batch_size = 512,\n",
    "                    verbose=1,\n",
    "                    validation_data = (x_dev_one_hot, y_dev_idx))\n",
    "#绘制曲线\n",
    "plot_train_history(history)\n",
    "print (\"best validation accuracy: \", max(history.history['val_acc']))"
   ]
  },
  {
   "cell_type": "markdown",
   "metadata": {},
   "source": [
    "## 加入embedding层的简单神经网络\n",
    "* 输入层\n",
    "* 隐含层1：embedding层\n",
    "* 隐含层2:   flatten层\n",
    "* 输出层：全连接层"
   ]
  },
  {
   "cell_type": "code",
   "execution_count": 38,
   "metadata": {},
   "outputs": [],
   "source": [
    "#定义序列的最长长度为25\n",
    "maxlen = 25\n",
    "#对文本进行填充\n",
    "def convert_to_sequences(tweet_text, tokenizer, maxlen=20):\n",
    "    tweet_sequence = np.asarray(tokenizer.texts_to_sequences(tweet_text))\n",
    "    padded = pad_sequences (tweet_sequence, maxlen=maxlen)\n",
    "    return (padded)\n",
    "#将train，dev，test集进行文本填充转换\n",
    "x_train_sequences = convert_to_sequences(x_train, tokenizer, maxlen=maxlen)\n",
    "x_dev_sequences = convert_to_sequences(x_dev, tokenizer, maxlen=maxlen)\n",
    "x_test_sequences = convert_to_sequences(x_test, tokenizer, maxlen=maxlen)"
   ]
  },
  {
   "cell_type": "code",
   "execution_count": 39,
   "metadata": {},
   "outputs": [],
   "source": [
    "#设置输出维度大小\n",
    "n_output_classes = y_dev_idx.shape[1]\n",
    "\n",
    "#定义embedding模型\n",
    "def simple_embedding_model(num_words, n_output_classes, n_embedding_dims = 16, max_sequence_length = 20):\n",
    "    #采用序贯模型\n",
    "    model = Sequential()\n",
    "    #加入embedding层\n",
    "    model.add(Embedding(num_words, n_embedding_dims, input_length = max_sequence_length, name=\"embedding\")) \n",
    "    #加入flatten层，把tensor转化为2维（samples，maxlen*8）\n",
    "    model.add(Flatten()) \n",
    "    #加入全连接层\n",
    "    model.add(Dense(n_output_classes, activation = 'softmax'))\n",
    "    #对模型进行编译\n",
    "    model.compile(optimizer = 'rmsprop',\n",
    "                  loss='categorical_crossentropy',\n",
    "                  metrics=['accuracy'])\n",
    "    return (model)"
   ]
  },
  {
   "cell_type": "code",
   "execution_count": 40,
   "metadata": {},
   "outputs": [
    {
     "name": "stdout",
     "output_type": "stream",
     "text": [
      "Train on 100000 samples, validate on 10000 samples\n",
      "Epoch 1/20\n",
      "100000/100000 [==============================] - 53s 528us/step - loss: 3.6874 - acc: 0.2466 - val_loss: 3.3586 - val_acc: 0.2949\n",
      "Epoch 2/20\n",
      "100000/100000 [==============================] - 53s 531us/step - loss: 3.0812 - acc: 0.3482 - val_loss: 3.0241 - val_acc: 0.3634\n",
      "Epoch 3/20\n",
      "100000/100000 [==============================] - 51s 513us/step - loss: 2.7921 - acc: 0.3930 - val_loss: 2.8662 - val_acc: 0.3863\n",
      "Epoch 4/20\n",
      "100000/100000 [==============================] - 53s 526us/step - loss: 2.6079 - acc: 0.4215 - val_loss: 2.7679 - val_acc: 0.4005\n",
      "Epoch 5/20\n",
      "100000/100000 [==============================] - 51s 510us/step - loss: 2.4671 - acc: 0.4469 - val_loss: 2.7009 - val_acc: 0.4152\n",
      "Epoch 6/20\n",
      "100000/100000 [==============================] - 52s 515us/step - loss: 2.3506 - acc: 0.4689 - val_loss: 2.6563 - val_acc: 0.4217\n",
      "Epoch 7/20\n",
      "100000/100000 [==============================] - 52s 520us/step - loss: 2.2491 - acc: 0.4870 - val_loss: 2.6218 - val_acc: 0.4294\n",
      "Epoch 8/20\n",
      "100000/100000 [==============================] - 51s 512us/step - loss: 2.1596 - acc: 0.5029 - val_loss: 2.5982 - val_acc: 0.4355\n",
      "Epoch 9/20\n",
      "100000/100000 [==============================] - 50s 500us/step - loss: 2.0779 - acc: 0.5191 - val_loss: 2.5852 - val_acc: 0.4428\n",
      "Epoch 10/20\n",
      "100000/100000 [==============================] - 51s 513us/step - loss: 2.0023 - acc: 0.5341 - val_loss: 2.5742 - val_acc: 0.4424\n",
      "Epoch 11/20\n",
      "100000/100000 [==============================] - 51s 506us/step - loss: 1.9326 - acc: 0.5483 - val_loss: 2.5722 - val_acc: 0.4451\n",
      "Epoch 12/20\n",
      "100000/100000 [==============================] - 51s 511us/step - loss: 1.8671 - acc: 0.5618 - val_loss: 2.5711 - val_acc: 0.4496\n",
      "Epoch 00012: early stopping\n"
     ]
    },
    {
     "data": {
      "image/png": "[encoded data removed]",
      "text/plain": [
       "<Figure size 432x288 with 1 Axes>"
      ]
     },
     "metadata": {},
     "output_type": "display_data"
    },
    {
     "data": {
      "image/png": "[encoded data removed]",
      "text/plain": [
       "<Figure size 432x288 with 1 Axes>"
      ]
     },
     "metadata": {},
     "output_type": "display_data"
    },
    {
     "name": "stdout",
     "output_type": "stream",
     "text": [
      "best validation accuracy:  0.449600000238\n"
     ]
    }
   ],
   "source": [
    "clear_session()\n",
    "#定义模型\n",
    "model = simple_embedding_model(num_words,\n",
    "                               n_output_classes, \n",
    "                               n_embedding_dims = 64, \n",
    "                               max_sequence_length = maxlen)    \n",
    "#加入early stopping防止过拟合\n",
    "early = keras.callbacks.EarlyStopping(monitor='val_loss',\n",
    "                              min_delta=0.03,\n",
    "                              patience=3,\n",
    "                              verbose=1, mode='auto')\n",
    "#加入断点续训\n",
    "checkpoint = keras.callbacks.ModelCheckpoint(filepath='emoji_embedding.h5',\n",
    "                                             monitor='val_acc',\n",
    "                                             save_best_only = True)\n",
    "#对模型进行可视化\n",
    "tensorboard = keras.callbacks.TensorBoard(log_dir='tensorboard_log',\n",
    "                                          #write_grads=1,\n",
    "                                          #histogram_freq=1,\n",
    "                                          embeddings_freq=1,\n",
    "                                          embeddings_data='embedding') \n",
    "#对模型进行训练\n",
    "history = model.fit (x_train_sequences, y_train_idx,\n",
    "                     validation_data = (x_dev_sequences, y_dev_idx),\n",
    "                     epochs = 20,\n",
    "                     batch_size = 512,\n",
    "                     verbose=1,\n",
    "                     callbacks=[early])\n",
    "#绘制曲线\n",
    "plot_train_history(history)\n",
    "print (\"best validation accuracy: \", max(history.history['val_acc']))"
   ]
  },
  {
   "cell_type": "markdown",
   "metadata": {},
   "source": [
    "## 加入embedding层的深层神经网络\n",
    "* 输入层\n",
    "* 隐含层1:  embedding层\n",
    "* 隐含层2:  flatten层\n",
    "* 隐含层3:  全连接层，dropout，L2正则化\n",
    "* 隐含层4:  全连接层，dropout，L2正则化\n",
    "* 输出层：全连接层"
   ]
  },
  {
   "cell_type": "code",
   "execution_count": 41,
   "metadata": {},
   "outputs": [],
   "source": [
    "#定义deeper embedding模型\n",
    "def deeper_embedding_model(num_words,\n",
    "                           n_output_classes, \n",
    "                           n_embedding_dims = 16, \n",
    "                           max_sequence_length = 20, \n",
    "                           dense1_size = 16, \n",
    "                           dropout1_rate = 0.2,\n",
    "                           dense2_size = 16,\n",
    "                           dropout2_rate = 0.2,\n",
    "                           lambd = 0.0):\n",
    "    #采用序贯模型\n",
    "    model = Sequential()\n",
    "    #加入embedding层\n",
    "    model.add(Embedding(num_words, n_embedding_dims, input_length = max_sequence_length, name=\"embedding\")) \n",
    "    #加入flatten层\n",
    "    model.add(Flatten()) \n",
    "    #加入全连接层\n",
    "    model.add(Dense(dense1_size, activation='relu'))\n",
    "    model.add(Dropout(dropout1_rate))\n",
    "    #加入全连接层\n",
    "    model.add(Dense(dense2_size, activation='relu',\n",
    "                    kernel_regularizer = regularizers.l2(lambd)))\n",
    "    model.add(Dropout(dropout2_rate))\n",
    "    #加入全连接层\n",
    "    model.add(Dense(n_output_classes, activation = 'softmax'))\n",
    "    #对模型进行编译\n",
    "    model.compile(optimizer = 'rmsprop',\n",
    "                  loss='categorical_crossentropy',\n",
    "                  metrics=['accuracy'])\n",
    "    return (model)"
   ]
  },
  {
   "cell_type": "code",
   "execution_count": 42,
   "metadata": {},
   "outputs": [
    {
     "name": "stdout",
     "output_type": "stream",
     "text": [
      "Train on 100000 samples, validate on 10000 samples\n",
      "Epoch 1/50\n",
      "100000/100000 [==============================] - 9s 93us/step - loss: 4.1497 - acc: 0.1401 - val_loss: 3.8496 - val_acc: 0.1870\n",
      "Epoch 2/50\n",
      "100000/100000 [==============================] - 9s 90us/step - loss: 3.7136 - acc: 0.2145 - val_loss: 3.5867 - val_acc: 0.2394\n",
      "Epoch 3/50\n",
      "100000/100000 [==============================] - 9s 94us/step - loss: 3.4921 - acc: 0.2519 - val_loss: 3.4058 - val_acc: 0.2492\n",
      "Epoch 4/50\n",
      "100000/100000 [==============================] - 9s 92us/step - loss: 3.3389 - acc: 0.2716 - val_loss: 3.2769 - val_acc: 0.2850\n",
      "Epoch 5/50\n",
      "100000/100000 [==============================] - 9s 95us/step - loss: 3.2277 - acc: 0.2872 - val_loss: 3.1911 - val_acc: 0.3029\n",
      "Epoch 6/50\n",
      "100000/100000 [==============================] - 9s 93us/step - loss: 3.1342 - acc: 0.3017 - val_loss: 3.1389 - val_acc: 0.3125\n",
      "Epoch 7/50\n",
      "100000/100000 [==============================] - 9s 93us/step - loss: 3.0508 - acc: 0.3145 - val_loss: 3.0931 - val_acc: 0.3265\n",
      "Epoch 8/50\n",
      "100000/100000 [==============================] - 9s 90us/step - loss: 2.9841 - acc: 0.3239 - val_loss: 3.0647 - val_acc: 0.3347\n",
      "Epoch 9/50\n",
      "100000/100000 [==============================] - 9s 87us/step - loss: 2.9298 - acc: 0.3333 - val_loss: 3.0421 - val_acc: 0.3443\n",
      "Epoch 10/50\n",
      "100000/100000 [==============================] - 9s 86us/step - loss: 2.8787 - acc: 0.3416 - val_loss: 3.0374 - val_acc: 0.3462\n",
      "Epoch 11/50\n",
      "100000/100000 [==============================] - 9s 89us/step - loss: 2.8313 - acc: 0.3478 - val_loss: 3.0355 - val_acc: 0.3545\n",
      "Epoch 12/50\n",
      "100000/100000 [==============================] - 9s 93us/step - loss: 2.7890 - acc: 0.3563 - val_loss: 3.0281 - val_acc: 0.3613\n",
      "Epoch 13/50\n",
      "100000/100000 [==============================] - 9s 89us/step - loss: 2.7533 - acc: 0.3614 - val_loss: 3.0571 - val_acc: 0.3646\n",
      "Epoch 14/50\n",
      "100000/100000 [==============================] - 9s 87us/step - loss: 2.7188 - acc: 0.3668 - val_loss: 3.0369 - val_acc: 0.3674\n",
      "Epoch 15/50\n",
      "100000/100000 [==============================] - 9s 88us/step - loss: 2.6864 - acc: 0.3722 - val_loss: 3.0558 - val_acc: 0.3689\n",
      "Epoch 16/50\n",
      "100000/100000 [==============================] - 9s 95us/step - loss: 2.6630 - acc: 0.3751 - val_loss: 3.0685 - val_acc: 0.3706\n",
      "Epoch 17/50\n",
      "100000/100000 [==============================] - 10s 96us/step - loss: 2.6336 - acc: 0.3812 - val_loss: 3.0741 - val_acc: 0.3731\n",
      "Epoch 18/50\n",
      "100000/100000 [==============================] - 10s 101us/step - loss: 2.6103 - acc: 0.3859 - val_loss: 3.0797 - val_acc: 0.3733\n",
      "Epoch 00018: early stopping\n"
     ]
    },
    {
     "data": {
      "image/png": "[encoded data removed]",
      "text/plain": [
       "<Figure size 432x288 with 1 Axes>"
      ]
     },
     "metadata": {},
     "output_type": "display_data"
    },
    {
     "data": {
      "image/png": "[encoded data removed]",
      "text/plain": [
       "<Figure size 432x288 with 1 Axes>"
      ]
     },
     "metadata": {},
     "output_type": "display_data"
    },
    {
     "name": "stdout",
     "output_type": "stream",
     "text": [
      "best validation accuracy:  0.373299999619\n"
     ]
    }
   ],
   "source": [
    "clear_session()\n",
    "#定义模型\n",
    "model = deeper_embedding_model(num_words,\n",
    "                               n_output_classes, \n",
    "                               n_embedding_dims = 28, \n",
    "                               max_sequence_length = maxlen,\n",
    "                               lambd = 0.0006)    \n",
    "#加入early stopping防止过拟合\n",
    "early = keras.callbacks.EarlyStopping(monitor='val_acc',\n",
    "                              min_delta=0.01,\n",
    "                              patience=5,\n",
    "                              verbose=1, mode='auto')\n",
    "#加入断点续训\n",
    "checkpoint = keras.callbacks.ModelCheckpoint(filepath='emoji_embedding_v2.h5',\n",
    "                                             monitor='val_acc',\n",
    "                                             save_best_only = True)\n",
    "#对模型进行训练\n",
    "history = model.fit (x_train_sequences, y_train_idx,\n",
    "                     validation_data = (x_dev_sequences, y_dev_idx),\n",
    "                     epochs = 50,\n",
    "                     batch_size = 512,\n",
    "                     verbose=1,\n",
    "                     callbacks=[early])\n",
    "#绘制曲线\n",
    "plot_train_history(history)\n",
    "print (\"best validation accuracy: \", max(history.history['val_acc']))"
   ]
  },
  {
   "cell_type": "markdown",
   "metadata": {},
   "source": [
    "## 模型调参"
   ]
  },
  {
   "cell_type": "code",
   "execution_count": 43,
   "metadata": {},
   "outputs": [
    {
     "name": "stdout",
     "output_type": "stream",
     "text": [
      "Train on 100000 samples, validate on 10000 samples\n",
      "Epoch 1/50\n",
      "100000/100000 [==============================] - 118s 1ms/step - loss: 3.8416 - acc: 0.2339 - val_loss: 3.4264 - val_acc: 0.2807\n",
      "Epoch 2/50\n",
      "100000/100000 [==============================] - 113s 1ms/step - loss: 3.2374 - acc: 0.3188 - val_loss: 3.1183 - val_acc: 0.3419\n",
      "Epoch 3/50\n",
      "100000/100000 [==============================] - 113s 1ms/step - loss: 2.9419 - acc: 0.3620 - val_loss: 2.9644 - val_acc: 0.3543\n",
      "Epoch 4/50\n",
      "100000/100000 [==============================] - 114s 1ms/step - loss: 2.7393 - acc: 0.3956 - val_loss: 2.8728 - val_acc: 0.3827\n",
      "Epoch 5/50\n",
      "100000/100000 [==============================] - 114s 1ms/step - loss: 2.5777 - acc: 0.4259 - val_loss: 2.8493 - val_acc: 0.3894\n",
      "Epoch 6/50\n",
      "100000/100000 [==============================] - 114s 1ms/step - loss: 2.4418 - acc: 0.4517 - val_loss: 2.8721 - val_acc: 0.3955\n",
      "Epoch 7/50\n",
      "100000/100000 [==============================] - 113s 1ms/step - loss: 2.3195 - acc: 0.4733 - val_loss: 2.8917 - val_acc: 0.4064\n",
      "Epoch 8/50\n",
      "100000/100000 [==============================] - 123s 1ms/step - loss: 2.2121 - acc: 0.4943 - val_loss: 2.9391 - val_acc: 0.4096\n",
      "Epoch 9/50\n",
      "100000/100000 [==============================] - 122s 1ms/step - loss: 2.1176 - acc: 0.5136 - val_loss: 3.0365 - val_acc: 0.4122\n",
      "Epoch 10/50\n",
      "100000/100000 [==============================] - 126s 1ms/step - loss: 2.0306 - acc: 0.5319 - val_loss: 3.1164 - val_acc: 0.4142\n",
      "Epoch 11/50\n",
      "100000/100000 [==============================] - 121s 1ms/step - loss: 1.9511 - acc: 0.5487 - val_loss: 3.1320 - val_acc: 0.4131\n",
      "Epoch 12/50\n",
      "100000/100000 [==============================] - 122s 1ms/step - loss: 1.8757 - acc: 0.5641 - val_loss: 3.2228 - val_acc: 0.4178\n",
      "Epoch 13/50\n",
      "100000/100000 [==============================] - 122s 1ms/step - loss: 1.8075 - acc: 0.5781 - val_loss: 3.3357 - val_acc: 0.4138\n",
      "Epoch 14/50\n",
      "100000/100000 [==============================] - 115s 1ms/step - loss: 1.7436 - acc: 0.5933 - val_loss: 3.4546 - val_acc: 0.4188\n",
      "Epoch 15/50\n",
      "100000/100000 [==============================] - 127s 1ms/step - loss: 1.6901 - acc: 0.6041 - val_loss: 3.5731 - val_acc: 0.4233\n",
      "Epoch 00015: early stopping\n"
     ]
    },
    {
     "data": {
      "image/png": "[encoded data removed]",
      "text/plain": [
       "<Figure size 432x288 with 1 Axes>"
      ]
     },
     "metadata": {},
     "output_type": "display_data"
    },
    {
     "data": {
      "image/png": "[encoded data removed]",
      "text/plain": [
       "<Figure size 432x288 with 1 Axes>"
      ]
     },
     "metadata": {},
     "output_type": "display_data"
    },
    {
     "name": "stdout",
     "output_type": "stream",
     "text": [
      "best validation accuracy:  0.423299999952\n"
     ]
    }
   ],
   "source": [
    "clear_session()\n",
    "#定义模型\n",
    "model = deeper_embedding_model(num_words,\n",
    "                               n_output_classes, \n",
    "                               n_embedding_dims = 128,          #196      # 128\n",
    "                               max_sequence_length = maxlen,\n",
    "                               dense1_size = 128,               # 160     # 128\n",
    "                               dropout1_rate = 0.4,           # 0.35\n",
    "                               dense2_size = 96,             # 128   # 96\n",
    "                               dropout2_rate = 0.4,           # 0.35\n",
    "                               lambd = 0.0025)                # 0.0015\n",
    "#加入early stopping防止过拟合                           \n",
    "early = keras.callbacks.EarlyStopping(monitor='val_loss',\n",
    "                              min_delta=0.01,\n",
    "                              patience=10,\n",
    "                              verbose=1, mode='auto')\n",
    "#对模型进行训练\n",
    "history = model.fit (x_train_sequences, y_train_idx,\n",
    "                     validation_data = (x_dev_sequences, y_dev_idx),\n",
    "                     epochs = 50,\n",
    "                     batch_size = 512,\n",
    "                     verbose=1,\n",
    "                     callbacks=[early])\n",
    "#绘制曲线\n",
    "plot_train_history(history)\n",
    "print (\"best validation accuracy: \", max(history.history['val_acc']))"
   ]
  },
  {
   "cell_type": "markdown",
   "metadata": {},
   "source": [
    "## LSTM模型\n",
    "* 输入层\n",
    "* 隐含层1：embedding层\n",
    "* 隐含层2:  LSTM层\n",
    "* 隐含层3:  全连接层，dropout，正则化\n",
    "* 隐含层4:  全连接层，dropout，正则化\n",
    "* 输出层：全连接层"
   ]
  },
  {
   "cell_type": "code",
   "execution_count": 44,
   "metadata": {},
   "outputs": [],
   "source": [
    "#定义LSTM模型\n",
    "def simple_lstm_model(num_words,\n",
    "                           n_output_classes, \n",
    "                           n_embedding_dims = 16, \n",
    "                           max_sequence_length = 20, \n",
    "                           dense1_size = 16, \n",
    "                           dropout1_rate = 0.2,\n",
    "                           lambd = 0.0):\n",
    "    #采用序贯模型\n",
    "    model = Sequential()\n",
    "    #加入embedding层\n",
    "    model.add(Embedding(num_words, n_embedding_dims, input_length = max_sequence_length, name=\"embedding\")) \n",
    "    #加入LSTM层\n",
    "    model.add(LSTM(n_embedding_dims))\n",
    "    # model.add(Flatten()) \n",
    "    #加入全连接层\n",
    "    model.add(Dense(dense1_size, activation='relu'))\n",
    "    model.add(Dropout(dropout1_rate))\n",
    "    #加入全连接层\n",
    "    model.add(Dense(n_output_classes, activation = 'softmax'))\n",
    "    #对模型进行编译\n",
    "    model.compile(optimizer = 'rmsprop',\n",
    "                  loss='categorical_crossentropy',\n",
    "                  metrics=['accuracy'])\n",
    "    return (model)"
   ]
  },
  {
   "cell_type": "code",
   "execution_count": 45,
   "metadata": {},
   "outputs": [
    {
     "name": "stdout",
     "output_type": "stream",
     "text": [
      "Train on 100000 samples, validate on 10000 samples\n",
      "Epoch 1/50\n",
      "100000/100000 [==============================] - 518s 5ms/step - loss: 3.7990 - acc: 0.2091 - val_loss: 3.4835 - val_acc: 0.2438\n",
      "Epoch 2/50\n",
      "100000/100000 [==============================] - 512s 5ms/step - loss: 3.2601 - acc: 0.2866 - val_loss: 3.1406 - val_acc: 0.3138\n",
      "Epoch 3/50\n",
      "100000/100000 [==============================] - 518s 5ms/step - loss: 2.9365 - acc: 0.3506 - val_loss: 2.9370 - val_acc: 0.3532\n",
      "Epoch 4/50\n",
      "100000/100000 [==============================] - 520s 5ms/step - loss: 2.7323 - acc: 0.3901 - val_loss: 2.8541 - val_acc: 0.3695\n",
      "Epoch 5/50\n",
      "100000/100000 [==============================] - 522s 5ms/step - loss: 2.6019 - acc: 0.4158 - val_loss: 2.7398 - val_acc: 0.4027\n",
      "Epoch 6/50\n",
      "100000/100000 [==============================] - 513s 5ms/step - loss: 2.5117 - acc: 0.4341 - val_loss: 2.7195 - val_acc: 0.4069\n",
      "Epoch 7/50\n",
      "100000/100000 [==============================] - 532s 5ms/step - loss: 2.4403 - acc: 0.4469 - val_loss: 2.6956 - val_acc: 0.4130\n",
      "Epoch 8/50\n",
      "100000/100000 [==============================] - 552s 6ms/step - loss: 2.3809 - acc: 0.4586 - val_loss: 2.6795 - val_acc: 0.4219\n",
      "Epoch 9/50\n",
      "100000/100000 [==============================] - 528s 5ms/step - loss: 2.3321 - acc: 0.4676 - val_loss: 2.6763 - val_acc: 0.4274\n",
      "Epoch 10/50\n",
      "100000/100000 [==============================] - 751s 8ms/step - loss: 2.2875 - acc: 0.4753 - val_loss: 2.7012 - val_acc: 0.4286\n",
      "Epoch 11/50\n",
      "100000/100000 [==============================] - 479s 5ms/step - loss: 2.2462 - acc: 0.4831 - val_loss: 2.6996 - val_acc: 0.4269\n",
      "Epoch 12/50\n",
      "100000/100000 [==============================] - 476s 5ms/step - loss: 2.2064 - acc: 0.4905 - val_loss: 2.6584 - val_acc: 0.4349\n",
      "Epoch 13/50\n",
      "100000/100000 [==============================] - 475s 5ms/step - loss: 2.1732 - acc: 0.4953 - val_loss: 2.6759 - val_acc: 0.4367\n",
      "Epoch 14/50\n",
      "100000/100000 [==============================] - 480s 5ms/step - loss: 2.1376 - acc: 0.5029 - val_loss: 2.7244 - val_acc: 0.4349\n",
      "Epoch 15/50\n",
      "100000/100000 [==============================] - 479s 5ms/step - loss: 2.1050 - acc: 0.5089 - val_loss: 2.7730 - val_acc: 0.4338\n",
      "Epoch 16/50\n",
      "100000/100000 [==============================] - 504s 5ms/step - loss: 2.0738 - acc: 0.5135 - val_loss: 2.7717 - val_acc: 0.4339\n",
      "Epoch 17/50\n",
      "100000/100000 [==============================] - 507s 5ms/step - loss: 2.0424 - acc: 0.5193 - val_loss: 2.7452 - val_acc: 0.4406\n",
      "Epoch 00017: early stopping\n"
     ]
    },
    {
     "data": {
      "image/png": "[encoded data removed]",
      "text/plain": [
       "<Figure size 432x288 with 1 Axes>"
      ]
     },
     "metadata": {},
     "output_type": "display_data"
    },
    {
     "data": {
      "image/png": "[encoded data removed]",
      "text/plain": [
       "<Figure size 432x288 with 1 Axes>"
      ]
     },
     "metadata": {},
     "output_type": "display_data"
    },
    {
     "name": "stdout",
     "output_type": "stream",
     "text": [
      "best validation accuracy:  0.440600000334\n"
     ]
    }
   ],
   "source": [
    "clear_session()\n",
    "#定义模型\n",
    "model = simple_lstm_model(num_words,\n",
    "                          n_output_classes, \n",
    "                          n_embedding_dims = 90,          \n",
    "                          max_sequence_length = maxlen,\n",
    "                          dense1_size = 128,               \n",
    "                          dropout1_rate = 0.2,           \n",
    "                          lambd = 0.0025)                \n",
    "#对模型进行可视化\n",
    "tensorboard = keras.callbacks.TensorBoard(log_dir='tensorboard_log')\n",
    "                                          #write_grads=1,\n",
    "                                          #histogram_freq=1,\n",
    "                                          #embeddings_freq=1,\n",
    "                                          #embeddings_data='embedding') \n",
    "#加入early stopping防止过拟合  \n",
    "early = keras.callbacks.EarlyStopping(monitor='val_loss',\n",
    "                              min_delta=0.01,\n",
    "                              patience=5,\n",
    "                              verbose=1, mode='auto')\n",
    "#对模型进行训练\n",
    "history = model.fit (x_train_sequences, y_train_idx,\n",
    "                     validation_data = (x_dev_sequences, y_dev_idx),\n",
    "                     epochs = 50,\n",
    "                     batch_size = 512,\n",
    "                     verbose=1,\n",
    "                     callbacks=[early, tensorboard])\n",
    "#绘制曲线\n",
    "plot_train_history(history)\n",
    "print (\"best validation accuracy: \", max(history.history['val_acc']))"
   ]
  },
  {
   "cell_type": "code",
   "execution_count": null,
   "metadata": {},
   "outputs": [],
   "source": []
  }
 ],
 "metadata": {
  "kernelspec": {
   "display_name": "Python 3",
   "language": "python",
   "name": "python3"
  },
  "language_info": {
   "codemirror_mode": {
    "name": "ipython",
    "version": 3
   },
   "file_extension": ".py",
   "mimetype": "text/x-python",
   "name": "python",
   "nbconvert_exporter": "python",
   "pygments_lexer": "ipython3",
   "version": "3.6.5"
  }
 },
 "nbformat": 4,
 "nbformat_minor": 2
}
