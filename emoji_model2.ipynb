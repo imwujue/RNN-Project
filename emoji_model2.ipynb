{
 "cells": [
  {
   "cell_type": "code",
   "execution_count": 1,
   "metadata": {},
   "outputs": [
    {
     "name": "stderr",
     "output_type": "stream",
     "text": [
      "Using TensorFlow backend.\n"
     ]
    }
   ],
   "source": [
    "import numpy as np\n",
    "np.random.seed(0)\n",
    "from keras.models import Model\n",
    "from keras.layers import Dense, Input, Dropout, LSTM, Activation\n",
    "from keras.layers.embeddings import Embedding\n",
    "from keras.preprocessing import sequence\n",
    "np.random.seed(1)\n",
    "from keras.initializers import glorot_uniform\n",
    "import csv\n",
    "import emoji\n",
    "import pandas as pd"
   ]
  },
  {
   "cell_type": "code",
   "execution_count": 2,
   "metadata": {},
   "outputs": [],
   "source": [
    "#将句子切分成单词，转换成index存入矩阵\n",
    "def sentences_to_indices(X, word_to_index, max_len):\n",
    "    m = X.shape[0] \n",
    "    X_indices = np.zeros((m, max_len))         \n",
    "\n",
    "    for i in range(m):                          \n",
    "        sentence_words = X[i].lower().split()\n",
    "        j = 0\n",
    "        for w in sentence_words:\n",
    "            X_indices[i, j] = word_to_index[w]\n",
    "            j = j + 1\n",
    "            \n",
    "    return X_indices"
   ]
  },
  {
   "cell_type": "code",
   "execution_count": 4,
   "metadata": {},
   "outputs": [
    {
     "ename": "NameError",
     "evalue": "name 'plt' is not defined",
     "output_type": "error",
     "traceback": [
      "\u001b[0;31m---------------------------------------------------------------------------\u001b[0m",
      "\u001b[0;31mNameError\u001b[0m                                 Traceback (most recent call last)",
      "\u001b[0;32m<ipython-input-4-d68619747bc5>\u001b[0m in \u001b[0;36m<module>\u001b[0;34m()\u001b[0m\n\u001b[1;32m     65\u001b[0m \u001b[0;34m\u001b[0m\u001b[0m\n\u001b[1;32m     66\u001b[0m \u001b[0;34m\u001b[0m\u001b[0m\n\u001b[0;32m---> 67\u001b[0;31m \u001b[0;32mdef\u001b[0m \u001b[0mplot_confusion_matrix\u001b[0m\u001b[0;34m(\u001b[0m\u001b[0my_actu\u001b[0m\u001b[0;34m,\u001b[0m \u001b[0my_pred\u001b[0m\u001b[0;34m,\u001b[0m \u001b[0mtitle\u001b[0m\u001b[0;34m=\u001b[0m\u001b[0;34m'Confusion matrix'\u001b[0m\u001b[0;34m,\u001b[0m \u001b[0mcmap\u001b[0m\u001b[0;34m=\u001b[0m\u001b[0mplt\u001b[0m\u001b[0;34m.\u001b[0m\u001b[0mcm\u001b[0m\u001b[0;34m.\u001b[0m\u001b[0mgray_r\u001b[0m\u001b[0;34m)\u001b[0m\u001b[0;34m:\u001b[0m\u001b[0;34m\u001b[0m\u001b[0m\n\u001b[0m\u001b[1;32m     68\u001b[0m \u001b[0;34m\u001b[0m\u001b[0m\n\u001b[1;32m     69\u001b[0m     \u001b[0mdf_confusion\u001b[0m \u001b[0;34m=\u001b[0m \u001b[0mpd\u001b[0m\u001b[0;34m.\u001b[0m\u001b[0mcrosstab\u001b[0m\u001b[0;34m(\u001b[0m\u001b[0my_actu\u001b[0m\u001b[0;34m,\u001b[0m \u001b[0my_pred\u001b[0m\u001b[0;34m.\u001b[0m\u001b[0mreshape\u001b[0m\u001b[0;34m(\u001b[0m\u001b[0my_pred\u001b[0m\u001b[0;34m.\u001b[0m\u001b[0mshape\u001b[0m\u001b[0;34m[\u001b[0m\u001b[0;36m0\u001b[0m\u001b[0;34m]\u001b[0m\u001b[0;34m,\u001b[0m\u001b[0;34m)\u001b[0m\u001b[0;34m,\u001b[0m \u001b[0mrownames\u001b[0m\u001b[0;34m=\u001b[0m\u001b[0;34m[\u001b[0m\u001b[0;34m'Actual'\u001b[0m\u001b[0;34m]\u001b[0m\u001b[0;34m,\u001b[0m \u001b[0mcolnames\u001b[0m\u001b[0;34m=\u001b[0m\u001b[0;34m[\u001b[0m\u001b[0;34m'Predicted'\u001b[0m\u001b[0;34m]\u001b[0m\u001b[0;34m,\u001b[0m \u001b[0mmargins\u001b[0m\u001b[0;34m=\u001b[0m\u001b[0;32mTrue\u001b[0m\u001b[0;34m)\u001b[0m\u001b[0;34m\u001b[0m\u001b[0m\n",
      "\u001b[0;31mNameError\u001b[0m: name 'plt' is not defined"
     ]
    }
   ],
   "source": [
    "#emoji 操作相关的函数\n",
    "def read_glove_vecs(glove_file):\n",
    "    with open(glove_file, 'r') as f:\n",
    "        words = set()\n",
    "        word_to_vec_map = {}\n",
    "        for line in f:\n",
    "            line = line.strip().split()\n",
    "            curr_word = line[0]\n",
    "            words.add(curr_word)\n",
    "            word_to_vec_map[curr_word] = np.array(line[1:], dtype=np.float64)\n",
    "\n",
    "        i = 1\n",
    "        words_to_index = {}\n",
    "        index_to_words = {}\n",
    "        for w in sorted(words):\n",
    "            words_to_index[w] = i\n",
    "            index_to_words[i] = w\n",
    "            i = i + 1\n",
    "    return words_to_index, index_to_words, word_to_vec_map\n",
    "\n",
    "def softmax(x):\n",
    "    \"\"\"Compute softmax values for each sets of scores in x.\"\"\"\n",
    "    e_x = np.exp(x - np.max(x))\n",
    "    return e_x / e_x.sum()\n",
    "\n",
    "\n",
    "def read_csv(filename = 'data/emojify_data.csv'):\n",
    "    phrase = []\n",
    "    emoji = []\n",
    "\n",
    "    with open (filename) as csvDataFile:\n",
    "        csvReader = csv.reader(csvDataFile)\n",
    "\n",
    "        for row in csvReader:\n",
    "            phrase.append(row[0])\n",
    "            emoji.append(row[1])\n",
    "\n",
    "    X = np.asarray(phrase)\n",
    "    Y = np.asarray(emoji, dtype=int)\n",
    "\n",
    "    return X, Y\n",
    "\n",
    "def convert_to_one_hot(Y, C):\n",
    "    Y = np.eye(C)[Y.reshape(-1)]\n",
    "    return Y\n",
    "\n",
    "\n",
    "emoji_dictionary = {\"0\": \"\\u2764\\uFE0F\",    # :heart: prints a black instead of red heart depending on the font\n",
    "                    \"1\": \":baseball:\",\n",
    "                    \"2\": \":smile:\",\n",
    "                    \"3\": \":disappointed:\",\n",
    "                    \"4\": \":fork_and_knife:\"}\n",
    "\n",
    "def label_to_emoji(label):\n",
    "    \"\"\"\n",
    "    Converts a label (int or string) into the corresponding emoji code (string) ready to be printed\n",
    "    \"\"\"\n",
    "    return emoji.emojize(emoji_dictionary[str(label)], use_aliases=True)\n",
    "\n",
    "\n",
    "def print_predictions(X, pred):\n",
    "    print()\n",
    "    for i in range(X.shape[0]):\n",
    "        print(X[i], label_to_emoji(int(pred[i])))\n",
    "\n",
    "\n",
    "def plot_confusion_matrix(y_actu, y_pred, title='Confusion matrix', cmap=plt.cm.gray_r):\n",
    "\n",
    "    df_confusion = pd.crosstab(y_actu, y_pred.reshape(y_pred.shape[0],), rownames=['Actual'], colnames=['Predicted'], margins=True)\n",
    "\n",
    "    df_conf_norm = df_confusion / df_confusion.sum(axis=1)\n",
    "\n",
    "    plt.matshow(df_confusion, cmap=cmap) # imshow\n",
    "    #plt.title(title)\n",
    "    plt.colorbar()\n",
    "    tick_marks = np.arange(len(df_confusion.columns))\n",
    "    plt.xticks(tick_marks, df_confusion.columns, rotation=45)\n",
    "    plt.yticks(tick_marks, df_confusion.index)\n",
    "    #plt.tight_layout()\n",
    "    plt.ylabel(df_confusion.index.name)\n",
    "    plt.xlabel(df_confusion.columns.name)\n",
    "\n",
    "\n",
    "def predict(X, Y, W, b, word_to_vec_map):\n",
    "    \"\"\"\n",
    "    Given X (sentences) and Y (emoji indices), predict emojis and compute the accuracy of your model over the given set.\n",
    "\n",
    "    Arguments:\n",
    "    X -- input data containing sentences, numpy array of shape (m, None)\n",
    "    Y -- labels, containing index of the label emoji, numpy array of shape (m, 1)\n",
    "\n",
    "    Returns:\n",
    "    pred -- numpy array of shape (m, 1) with your predictions\n",
    "    \"\"\"\n",
    "    m = X.shape[0]\n",
    "    pred = np.zeros((m, 1))\n",
    "\n",
    "    for j in range(m):                       # Loop over training examples\n",
    "\n",
    "        # Split jth test example (sentence) into list of lower case words\n",
    "        words = X[j].lower().split()\n",
    "\n",
    "        # Average words' vectors\n",
    "        avg = np.zeros((50,))\n",
    "        for w in words:\n",
    "            avg += word_to_vec_map[w]\n",
    "        avg = avg/len(words)\n",
    "\n",
    "        # Forward propagation\n",
    "        Z = np.dot(W, avg) + b\n",
    "        A = softmax(Z)\n",
    "        pred[j] = np.argmax(A)\n",
    "\n",
    "    print(\"Accuracy: \"  + str(np.mean((pred[:] == Y.reshape(Y.shape[0],1)[:]))))\n",
    "\n",
    "    return pred"
   ]
  },
  {
   "cell_type": "code",
   "execution_count": 5,
   "metadata": {},
   "outputs": [],
   "source": [
    "#读入测试集/训练集\n",
    "X_train, Y_train = read_csv('emoji/train_emoji.csv')\n",
    "X_test, Y_test = read_csv('emoji/tesss.csv')\n",
    "X = pd.read_csv('emoji/train_emoji.csv')"
   ]
  },
  {
   "cell_type": "code",
   "execution_count": 6,
   "metadata": {},
   "outputs": [],
   "source": [
    "# GRADED FUNCTION: pretrained_embedding_layer\n",
    "#构造Embedding层，加载预训练的GLoVe模型\n",
    "def pretrained_embedding_layer(word_to_vec_map, word_to_index):\n",
    "    vocab_len = len(word_to_index) + 1\n",
    "    emb_dim = word_to_vec_map[\"cucumber\"].shape[0]\n",
    "\n",
    "    #初始化embedding矩阵\n",
    "    emb_matrix = np.zeros((vocab_len, emb_dim))\n",
    "\n",
    "    for word, index in word_to_index.items():\n",
    "        emb_matrix[index, :] = word_to_vec_map[word]\n",
    "    embedding_layer = Embedding(vocab_len,emb_dim, trainable=False)\n",
    "    embedding_layer.build((None,))\n",
    "    embedding_layer.set_weights([emb_matrix])\n",
    "\n",
    "    return embedding_layer"
   ]
  },
  {
   "cell_type": "code",
   "execution_count": 7,
   "metadata": {},
   "outputs": [],
   "source": [
    "def Emojify_V2(input_shape, word_to_vec_map, word_to_index):\n",
    "    \n",
    "    sentence_indices = Input(shape = input_shape, dtype = 'int32')\n",
    "\n",
    "    embedding_layer = pretrained_embedding_layer(word_to_vec_map, word_to_index)\n",
    "    embeddings = embedding_layer(sentence_indices)   \n",
    "\n",
    "    X = LSTM(128, return_sequences=True)(embeddings)\n",
    "    X = Dropout(0.5)(X)\n",
    "    X = LSTM(128, return_sequences=False)(X)\n",
    "    X = Dropout(0.5)(X)\n",
    "    X = Dense(5, activation='softmax')(X)\n",
    "    X = Activation('softmax')(X)\n",
    "\n",
    "    model = Model(inputs=sentence_indices ,outputs=X)\n",
    "\n",
    "    return model"
   ]
  },
  {
   "cell_type": "code",
   "execution_count": 8,
   "metadata": {},
   "outputs": [],
   "source": [
    "word_to_index, index_to_word, word_to_vec_map = read_glove_vecs('emoji/glove.6B.50d.txt')"
   ]
  },
  {
   "cell_type": "code",
   "execution_count": 9,
   "metadata": {},
   "outputs": [],
   "source": [
    "# GRADED FUNCTION: sentence_to_avg\n",
    "\n",
    "def sentence_to_avg(sentence, word_to_vec_map):\n",
    "    #把所有的句子转换成小写 \n",
    "    words = sentence.lower().split()\n",
    "    #初始化word vector\n",
    "    # Initialize the average word vector, should have the same shape as your word vectors.\n",
    "    avg = np.zeros((50,))\n",
    "    #计算 word vector的均值\n",
    "    # Step 2: average the word vectors. You can loop over the words in the list \"words\".\n",
    "    for w in words:\n",
    "        #print(w,word_to_index[w])\n",
    "        #print(word_to_vec_map[w])\n",
    "        avg += word_to_vec_map[w]\n",
    "    avg = avg/len(words)\n",
    "    return avg"
   ]
  },
  {
   "cell_type": "code",
   "execution_count": 10,
   "metadata": {},
   "outputs": [
    {
     "name": "stdout",
     "output_type": "stream",
     "text": [
      "avg =  [-0.008005    0.56370833 -0.50427333  0.258865    0.55131103  0.03104983\n",
      " -0.21013718  0.16893933 -0.09590267  0.141784   -0.15708967  0.18525867\n",
      "  0.6495785   0.38371117  0.21102167  0.11301667  0.02613967  0.26037767\n",
      "  0.05820667 -0.01578167 -0.12078833 -0.02471267  0.4128455   0.5152061\n",
      "  0.38756167 -0.898661   -0.535145    0.33501167  0.68806933 -0.2156265\n",
      "  1.797155    0.10476933 -0.36775333  0.750785    0.10282583  0.348925\n",
      " -0.27262833  0.66768    -0.10706167 -0.283635    0.59580117  0.28747333\n",
      " -0.3366635   0.23393817  0.34349183  0.178405    0.1166155  -0.076433\n",
      "  0.1445417   0.09808667]\n"
     ]
    }
   ],
   "source": [
    "avg = sentence_to_avg(\"Morrocan couscous is my favorite dish\", word_to_vec_map)\n",
    "print(\"avg = \", avg)"
   ]
  },
  {
   "cell_type": "code",
   "execution_count": 11,
   "metadata": {},
   "outputs": [
    {
     "name": "stdout",
     "output_type": "stream",
     "text": [
      "_________________________________________________________________\n",
      "Layer (type)                 Output Shape              Param #   \n",
      "=================================================================\n",
      "input_1 (InputLayer)         (None, 10)                0         \n",
      "_________________________________________________________________\n",
      "embedding_1 (Embedding)      (None, 10, 50)            20000050  \n",
      "_________________________________________________________________\n",
      "lstm_1 (LSTM)                (None, 10, 128)           91648     \n",
      "_________________________________________________________________\n",
      "dropout_1 (Dropout)          (None, 10, 128)           0         \n",
      "_________________________________________________________________\n",
      "lstm_2 (LSTM)                (None, 128)               131584    \n",
      "_________________________________________________________________\n",
      "dropout_2 (Dropout)          (None, 128)               0         \n",
      "_________________________________________________________________\n",
      "dense_1 (Dense)              (None, 5)                 645       \n",
      "_________________________________________________________________\n",
      "activation_1 (Activation)    (None, 5)                 0         \n",
      "=================================================================\n",
      "Total params: 20,223,927\n",
      "Trainable params: 223,877\n",
      "Non-trainable params: 20,000,050\n",
      "_________________________________________________________________\n"
     ]
    }
   ],
   "source": [
    "maxLen = len(max(X_train, key=len).split())\n",
    "model = Emojify_V2((maxLen,), word_to_vec_map, word_to_index)\n",
    "model.summary()"
   ]
  },
  {
   "cell_type": "code",
   "execution_count": 12,
   "metadata": {},
   "outputs": [
    {
     "name": "stdout",
     "output_type": "stream",
     "text": [
      "Epoch 1/50\n",
      "132/132 [==============================] - 3s 23ms/step - loss: 1.6066 - acc: 0.1894\n",
      "Epoch 2/50\n",
      "132/132 [==============================] - 1s 7ms/step - loss: 1.5891 - acc: 0.2576\n",
      "Epoch 3/50\n",
      "132/132 [==============================] - 1s 7ms/step - loss: 1.5723 - acc: 0.2727\n",
      "Epoch 4/50\n",
      "132/132 [==============================] - 1s 7ms/step - loss: 1.5525 - acc: 0.3106\n",
      "Epoch 5/50\n",
      "132/132 [==============================] - 1s 7ms/step - loss: 1.5342 - acc: 0.2955\n",
      "Epoch 6/50\n",
      "132/132 [==============================] - 1s 7ms/step - loss: 1.5095 - acc: 0.3939\n",
      "Epoch 7/50\n",
      "132/132 [==============================] - 1s 7ms/step - loss: 1.4449 - acc: 0.6591\n",
      "Epoch 8/50\n",
      "132/132 [==============================] - 1s 7ms/step - loss: 1.3765 - acc: 0.6288\n",
      "Epoch 9/50\n",
      "132/132 [==============================] - 1s 7ms/step - loss: 1.3554 - acc: 0.5682\n",
      "Epoch 10/50\n",
      "132/132 [==============================] - 1s 8ms/step - loss: 1.3395 - acc: 0.6212\n",
      "Epoch 11/50\n",
      "132/132 [==============================] - 1s 10ms/step - loss: 1.3243 - acc: 0.6061\n",
      "Epoch 12/50\n",
      "132/132 [==============================] - 1s 9ms/step - loss: 1.2653 - acc: 0.6970\n",
      "Epoch 13/50\n",
      "132/132 [==============================] - 1s 8ms/step - loss: 1.2220 - acc: 0.7197\n",
      "Epoch 14/50\n",
      "132/132 [==============================] - 1s 7ms/step - loss: 1.1718 - acc: 0.7727\n",
      "Epoch 15/50\n",
      "132/132 [==============================] - 1s 8ms/step - loss: 1.1533 - acc: 0.7803\n",
      "Epoch 16/50\n",
      "132/132 [==============================] - 1s 7ms/step - loss: 1.1816 - acc: 0.7424\n",
      "Epoch 17/50\n",
      "132/132 [==============================] - 1s 7ms/step - loss: 1.1526 - acc: 0.7727\n",
      "Epoch 18/50\n",
      "132/132 [==============================] - 1s 7ms/step - loss: 1.1072 - acc: 0.8030\n",
      "Epoch 19/50\n",
      "132/132 [==============================] - 1s 7ms/step - loss: 1.1226 - acc: 0.8030\n",
      "Epoch 20/50\n",
      "132/132 [==============================] - 1s 7ms/step - loss: 1.0904 - acc: 0.8182\n",
      "Epoch 21/50\n",
      "132/132 [==============================] - 1s 7ms/step - loss: 1.1193 - acc: 0.7803\n",
      "Epoch 22/50\n",
      "132/132 [==============================] - 1s 7ms/step - loss: 1.0379 - acc: 0.8788\n",
      "Epoch 23/50\n",
      "132/132 [==============================] - 1s 7ms/step - loss: 1.0729 - acc: 0.8182\n",
      "Epoch 24/50\n",
      "132/132 [==============================] - 1s 7ms/step - loss: 1.0462 - acc: 0.8636\n",
      "Epoch 25/50\n",
      "132/132 [==============================] - 1s 8ms/step - loss: 1.0609 - acc: 0.8636\n",
      "Epoch 26/50\n",
      "132/132 [==============================] - 1s 7ms/step - loss: 1.0452 - acc: 0.8712\n",
      "Epoch 27/50\n",
      "132/132 [==============================] - 1s 8ms/step - loss: 1.0337 - acc: 0.8788\n",
      "Epoch 28/50\n",
      "132/132 [==============================] - 1s 7ms/step - loss: 1.0432 - acc: 0.8712\n",
      "Epoch 29/50\n",
      "132/132 [==============================] - 1s 9ms/step - loss: 1.0239 - acc: 0.8788\n",
      "Epoch 30/50\n",
      "132/132 [==============================] - 1s 8ms/step - loss: 1.0430 - acc: 0.8636\n",
      "Epoch 31/50\n",
      "132/132 [==============================] - 1s 8ms/step - loss: 1.0211 - acc: 0.8788\n",
      "Epoch 32/50\n",
      "132/132 [==============================] - 1s 7ms/step - loss: 1.0729 - acc: 0.8258\n",
      "Epoch 33/50\n",
      "132/132 [==============================] - 1s 7ms/step - loss: 0.9889 - acc: 0.9242\n",
      "Epoch 34/50\n",
      "132/132 [==============================] - 1s 8ms/step - loss: 1.0481 - acc: 0.8561\n",
      "Epoch 35/50\n",
      "132/132 [==============================] - 1s 9ms/step - loss: 1.0032 - acc: 0.8939\n",
      "Epoch 36/50\n",
      "132/132 [==============================] - 1s 8ms/step - loss: 1.1635 - acc: 0.7348\n",
      "Epoch 37/50\n",
      "132/132 [==============================] - 1s 8ms/step - loss: 1.3594 - acc: 0.5455\n",
      "Epoch 38/50\n",
      "132/132 [==============================] - 1s 8ms/step - loss: 1.3640 - acc: 0.5379\n",
      "Epoch 39/50\n",
      "132/132 [==============================] - 1s 8ms/step - loss: 1.3708 - acc: 0.5303\n",
      "Epoch 40/50\n",
      "132/132 [==============================] - 1s 8ms/step - loss: 1.3410 - acc: 0.5606\n",
      "Epoch 41/50\n",
      "132/132 [==============================] - 1s 7ms/step - loss: 1.4086 - acc: 0.4848\n",
      "Epoch 42/50\n",
      "132/132 [==============================] - 1s 8ms/step - loss: 1.3227 - acc: 0.5682\n",
      "Epoch 43/50\n",
      "132/132 [==============================] - 1s 8ms/step - loss: 1.2145 - acc: 0.6970\n",
      "Epoch 44/50\n",
      "132/132 [==============================] - 1s 7ms/step - loss: 1.2255 - acc: 0.6818\n",
      "Epoch 45/50\n",
      "132/132 [==============================] - 1s 8ms/step - loss: 1.1841 - acc: 0.7273\n",
      "Epoch 46/50\n",
      "132/132 [==============================] - 1s 7ms/step - loss: 1.1373 - acc: 0.7652\n",
      "Epoch 47/50\n",
      "132/132 [==============================] - 1s 8ms/step - loss: 1.1148 - acc: 0.7879\n",
      "Epoch 48/50\n",
      "132/132 [==============================] - 1s 8ms/step - loss: 1.1016 - acc: 0.8030\n",
      "Epoch 49/50\n",
      "132/132 [==============================] - 1s 7ms/step - loss: 1.0098 - acc: 0.9091\n",
      "Epoch 50/50\n",
      "132/132 [==============================] - 1s 7ms/step - loss: 1.0217 - acc: 0.8939\n"
     ]
    },
    {
     "data": {
      "text/plain": [
       "<keras.callbacks.History at 0xb2a0f01d0>"
      ]
     },
     "execution_count": 12,
     "metadata": {},
     "output_type": "execute_result"
    }
   ],
   "source": [
    "model.compile(loss='categorical_crossentropy', optimizer='adam', metrics=['accuracy'])\n",
    "X_train_indices = sentences_to_indices(X_train, word_to_index, maxLen)\n",
    "Y_train_oh = convert_to_one_hot(Y_train, C = 5)\n",
    "model.fit(X_train_indices, Y_train_oh, epochs = 50, batch_size = 32, shuffle=True)"
   ]
  },
  {
   "cell_type": "code",
   "execution_count": 13,
   "metadata": {},
   "outputs": [
    {
     "name": "stdout",
     "output_type": "stream",
     "text": [
      "56/56 [==============================] - 0s 7ms/step\n",
      "\n",
      "Test accuracy =  0.767857134342\n"
     ]
    }
   ],
   "source": [
    "X_test_indices = sentences_to_indices(X_test, word_to_index, max_len = maxLen)\n",
    "Y_test_oh = convert_to_one_hot(Y_test, C = 5)\n",
    "loss, acc = model.evaluate(X_test_indices, Y_test_oh)\n",
    "print()\n",
    "print(\"Test accuracy = \", acc)"
   ]
  },
  {
   "cell_type": "code",
   "execution_count": 14,
   "metadata": {},
   "outputs": [
    {
     "name": "stdout",
     "output_type": "stream",
     "text": [
      "Expected emoji:😄 prediction: he got a very nice raise\t❤️\n",
      "Expected emoji:😄 prediction: she got me a nice present\t❤️\n",
      "Expected emoji:😄 prediction: he is a good friend\t❤️\n",
      "Expected emoji:😞 prediction: This girl is messing with me\t❤️\n",
      "Expected emoji:😞 prediction: work is horrible\t😄\n",
      "Expected emoji:🍴 prediction: any suggestions for dinner\t😄\n",
      "Expected emoji:😄 prediction: you brighten my day\t❤️\n",
      "Expected emoji:😞 prediction: she is a bully\t❤️\n",
      "Expected emoji:⚾ prediction: enjoy your game😄\n",
      "Expected emoji:😞 prediction: My life is so boring\t❤️\n",
      "Expected emoji:😄 prediction: will you be my valentine\t❤️\n",
      "Expected emoji:😞 prediction: go away\t🍴\n",
      "Expected emoji:😞 prediction: yesterday we lost again\t⚾\n"
     ]
    }
   ],
   "source": [
    "# This code allows you to see the mislabelled examples\n",
    "C = 5\n",
    "y_test_oh = np.eye(C)[Y_test.reshape(-1)]\n",
    "X_test_indices = sentences_to_indices(X_test, word_to_index, maxLen)\n",
    "pred = model.predict(X_test_indices)\n",
    "for i in range(len(X_test)):\n",
    "    x = X_test_indices\n",
    "    num = np.argmax(pred[i])\n",
    "    if(num != Y_test[i]):\n",
    "        print('Expected emoji:'+ label_to_emoji(Y_test[i]) + ' prediction: '+ X_test[i] + label_to_emoji(num).strip())"
   ]
  },
  {
   "cell_type": "code",
   "execution_count": 15,
   "metadata": {},
   "outputs": [
    {
     "name": "stdout",
     "output_type": "stream",
     "text": [
      "you are not happy 😞\n"
     ]
    }
   ],
   "source": [
    "# Change the sentence below to see your prediction. Make sure all the words are in the Glove embeddings.  \n",
    "x_test = np.array(['you are not happy'])\n",
    "X_test_indices = sentences_to_indices(x_test, word_to_index, maxLen)\n",
    "print(x_test[0] +' '+  label_to_emoji(np.argmax(model.predict(X_test_indices))))"
   ]
  },
  {
   "cell_type": "code",
   "execution_count": null,
   "metadata": {},
   "outputs": [],
   "source": []
  },
  {
   "cell_type": "code",
   "execution_count": null,
   "metadata": {},
   "outputs": [],
   "source": []
  }
 ],
 "metadata": {
  "kernelspec": {
   "display_name": "Python 3",
   "language": "python",
   "name": "python3"
  },
  "language_info": {
   "codemirror_mode": {
    "name": "ipython",
    "version": 3
   },
   "file_extension": ".py",
   "mimetype": "text/x-python",
   "name": "python",
   "nbconvert_exporter": "python",
   "pygments_lexer": "ipython3",
   "version": "3.6.5"
  }
 },
 "nbformat": 4,
 "nbformat_minor": 2
}
